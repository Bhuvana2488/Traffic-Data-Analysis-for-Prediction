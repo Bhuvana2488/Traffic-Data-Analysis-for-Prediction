# 📦 Import Required Libraries
import zipfile
import os
import pandas as pd
import matplotlib.pyplot as plt
import seaborn as sns
from sklearn.linear_model import LinearRegression
from sklearn.model_selection import train_test_split
from sklearn.metrics import mean_squared_error

# 📁 Step 1: Extract ZIP files
zip_path = r"C:\Users\BHUVANA\US-101-LosAngeles-CA.zip"  # change if needed
extract_to = "us101_data"

if not os.path.exists(extract_to):
    with zipfile.ZipFile(zip_path, 'r') as zip_ref:
        zip_ref.extractall(extract_to)

# 📄 Step 2: Load vehicle trajectory data (one of the files)
data_file = os.path.join(
    extract_to,
    "us-101-vehicle-trajectory-data",
    "vehicle-trajectory-data",
    "0750am-0805am",
    "trajectories-0750am-0805am.txt"
)

df = pd.read_csv(data_file, delimiter='\t')

# 🧹 Step 3: Inspect and Clean Data
print("Columns:", df.columns.tolist())
df.dropna(inplace=True)
df.head()
# Number of vehicles
vehicle_counts = df['Vehicle_ID'].nunique()
print(f"Total Vehicles: {vehicle_counts}")

# Plot trajectory for a random vehicle
vehicle_id = df['Vehicle_ID'].sample(1).values[0]
vehicle_df = df[df['Vehicle_ID'] == vehicle_id]

plt.figure(figsize=(10, 4))
plt.plot(vehicle_df['Global_Time'], vehicle_df['Local_Y'], marker='o')
plt.title(f"Trajectory of Vehicle {vehicle_id}")
plt.xlabel("Global Time (ms)")
plt.ylabel("Local Y (ft)")
plt.grid(True)
plt.show()
# Use one vehicle for regression
vehicle_sample = df[df['Vehicle_ID'] == df['Vehicle_ID'].unique()[0]]

# Features and target
X = vehicle_sample[['Global_Time']]
y = vehicle_sample['Local_Y']

# Train-test split
X_train, X_test, y_train, y_test = train_test_split(X, y, test_size=0.2, random_state=42)

# Model
model = LinearRegression()
model.fit(X_train, y_train)
y_pred = model.predict(X_test)

# Evaluate
mse = mean_squared_error(y_test, y_pred)
print(f"Mean Squared Error: {mse:.2f}")

# Plot
plt.figure(figsize=(10, 5))
plt.scatter(X_test, y_test, label="Actual", alpha=0.5)
plt.plot(X_test, y_pred, color="red", label="Predicted")
plt.title("Linear Regression on Vehicle Trajectory")
plt.xlabel("Global Time")
plt.ylabel("Local Y")
plt.legend()
plt.show()


